{
 "cells": [
  {
   "cell_type": "markdown",
   "metadata": {},
   "source": [
    "### Exploratory Data Analysis"
   ]
  },
  {
   "cell_type": "code",
   "execution_count": 1,
   "metadata": {},
   "outputs": [],
   "source": [
    "import pandas as pd"
   ]
  },
  {
   "cell_type": "code",
   "execution_count": 2,
   "metadata": {},
   "outputs": [
    {
     "data": {
      "text/html": [
       "<div>\n",
       "<style scoped>\n",
       "    .dataframe tbody tr th:only-of-type {\n",
       "        vertical-align: middle;\n",
       "    }\n",
       "\n",
       "    .dataframe tbody tr th {\n",
       "        vertical-align: top;\n",
       "    }\n",
       "\n",
       "    .dataframe thead th {\n",
       "        text-align: right;\n",
       "    }\n",
       "</style>\n",
       "<table border=\"1\" class=\"dataframe\">\n",
       "  <thead>\n",
       "    <tr style=\"text-align: right;\">\n",
       "      <th></th>\n",
       "      <th>match_id</th>\n",
       "      <th>match_name</th>\n",
       "      <th>team_id</th>\n",
       "      <th>team_name</th>\n",
       "      <th>is_home</th>\n",
       "      <th>player_id</th>\n",
       "      <th>player_name</th>\n",
       "      <th>goals_scored</th>\n",
       "      <th>minutes_played</th>\n",
       "    </tr>\n",
       "  </thead>\n",
       "  <tbody>\n",
       "    <tr>\n",
       "      <th>0</th>\n",
       "      <td>1719</td>\n",
       "      <td>We Like Puppies vs Nagoya Grampus Eight</td>\n",
       "      <td>17</td>\n",
       "      <td>We Like Puppies</td>\n",
       "      <td>True</td>\n",
       "      <td>36</td>\n",
       "      <td>John Cruz</td>\n",
       "      <td>1</td>\n",
       "      <td>46</td>\n",
       "    </tr>\n",
       "    <tr>\n",
       "      <th>1</th>\n",
       "      <td>412</td>\n",
       "      <td>Benchwarmers vs Killer Giants</td>\n",
       "      <td>12</td>\n",
       "      <td>Killer Giants</td>\n",
       "      <td>False</td>\n",
       "      <td>31</td>\n",
       "      <td>Philip Webster</td>\n",
       "      <td>1</td>\n",
       "      <td>49</td>\n",
       "    </tr>\n",
       "    <tr>\n",
       "      <th>2</th>\n",
       "      <td>1618</td>\n",
       "      <td>Fat Married People vs Aliens</td>\n",
       "      <td>18</td>\n",
       "      <td>Aliens</td>\n",
       "      <td>False</td>\n",
       "      <td>97</td>\n",
       "      <td>Alison Clay</td>\n",
       "      <td>2</td>\n",
       "      <td>52</td>\n",
       "    </tr>\n",
       "    <tr>\n",
       "      <th>3</th>\n",
       "      <td>24</td>\n",
       "      <td>Formerly In Shape Stars vs Benchwarmers</td>\n",
       "      <td>2</td>\n",
       "      <td>Formerly In Shape Stars</td>\n",
       "      <td>True</td>\n",
       "      <td>41</td>\n",
       "      <td>Julie Villa</td>\n",
       "      <td>1</td>\n",
       "      <td>72</td>\n",
       "    </tr>\n",
       "    <tr>\n",
       "      <th>4</th>\n",
       "      <td>16</td>\n",
       "      <td>Look Ma, No Hands vs Miscellaneous</td>\n",
       "      <td>1</td>\n",
       "      <td>Look Ma, No Hands</td>\n",
       "      <td>True</td>\n",
       "      <td>100</td>\n",
       "      <td>Chad Rivera</td>\n",
       "      <td>1</td>\n",
       "      <td>79</td>\n",
       "    </tr>\n",
       "  </tbody>\n",
       "</table>\n",
       "</div>"
      ],
      "text/plain": [
       "   match_id                               match_name  team_id  \\\n",
       "0      1719  We Like Puppies vs Nagoya Grampus Eight       17   \n",
       "1       412            Benchwarmers vs Killer Giants       12   \n",
       "2      1618             Fat Married People vs Aliens       18   \n",
       "3        24  Formerly In Shape Stars vs Benchwarmers        2   \n",
       "4        16       Look Ma, No Hands vs Miscellaneous        1   \n",
       "\n",
       "                 team_name  is_home  player_id     player_name  goals_scored  \\\n",
       "0          We Like Puppies     True         36       John Cruz             1   \n",
       "1            Killer Giants    False         31  Philip Webster             1   \n",
       "2                   Aliens    False         97     Alison Clay             2   \n",
       "3  Formerly In Shape Stars     True         41     Julie Villa             1   \n",
       "4        Look Ma, No Hands     True        100     Chad Rivera             1   \n",
       "\n",
       "   minutes_played  \n",
       "0              46  \n",
       "1              49  \n",
       "2              52  \n",
       "3              72  \n",
       "4              79  "
      ]
     },
     "execution_count": 2,
     "metadata": {},
     "output_type": "execute_result"
    }
   ],
   "source": [
    "df = pd.read_csv('data/source/output.csv')\n",
    "df.head()"
   ]
  },
  {
   "cell_type": "code",
   "execution_count": 5,
   "metadata": {},
   "outputs": [
    {
     "data": {
      "text/html": [
       "<div>\n",
       "<style scoped>\n",
       "    .dataframe tbody tr th:only-of-type {\n",
       "        vertical-align: middle;\n",
       "    }\n",
       "\n",
       "    .dataframe tbody tr th {\n",
       "        vertical-align: top;\n",
       "    }\n",
       "\n",
       "    .dataframe thead th {\n",
       "        text-align: right;\n",
       "    }\n",
       "</style>\n",
       "<table border=\"1\" class=\"dataframe\">\n",
       "  <thead>\n",
       "    <tr style=\"text-align: right;\">\n",
       "      <th></th>\n",
       "      <th>match_id</th>\n",
       "      <th>team_id</th>\n",
       "      <th>player_id</th>\n",
       "      <th>goals_scored</th>\n",
       "      <th>minutes_played</th>\n",
       "    </tr>\n",
       "  </thead>\n",
       "  <tbody>\n",
       "    <tr>\n",
       "      <th>count</th>\n",
       "      <td>4180.000000</td>\n",
       "      <td>4180.000000</td>\n",
       "      <td>4180.000000</td>\n",
       "      <td>4180.000000</td>\n",
       "      <td>4180.000000</td>\n",
       "    </tr>\n",
       "    <tr>\n",
       "      <th>mean</th>\n",
       "      <td>657.157895</td>\n",
       "      <td>10.500000</td>\n",
       "      <td>109.500000</td>\n",
       "      <td>0.563876</td>\n",
       "      <td>67.630622</td>\n",
       "    </tr>\n",
       "    <tr>\n",
       "      <th>std</th>\n",
       "      <td>511.040045</td>\n",
       "      <td>5.766971</td>\n",
       "      <td>63.515472</td>\n",
       "      <td>0.837038</td>\n",
       "      <td>13.200804</td>\n",
       "    </tr>\n",
       "    <tr>\n",
       "      <th>min</th>\n",
       "      <td>12.000000</td>\n",
       "      <td>1.000000</td>\n",
       "      <td>0.000000</td>\n",
       "      <td>0.000000</td>\n",
       "      <td>45.000000</td>\n",
       "    </tr>\n",
       "    <tr>\n",
       "      <th>25%</th>\n",
       "      <td>210.000000</td>\n",
       "      <td>5.750000</td>\n",
       "      <td>54.750000</td>\n",
       "      <td>0.000000</td>\n",
       "      <td>56.000000</td>\n",
       "    </tr>\n",
       "    <tr>\n",
       "      <th>50%</th>\n",
       "      <td>613.500000</td>\n",
       "      <td>10.500000</td>\n",
       "      <td>109.500000</td>\n",
       "      <td>0.000000</td>\n",
       "      <td>68.000000</td>\n",
       "    </tr>\n",
       "    <tr>\n",
       "      <th>75%</th>\n",
       "      <td>1018.000000</td>\n",
       "      <td>15.250000</td>\n",
       "      <td>164.250000</td>\n",
       "      <td>1.000000</td>\n",
       "      <td>79.000000</td>\n",
       "    </tr>\n",
       "    <tr>\n",
       "      <th>max</th>\n",
       "      <td>1920.000000</td>\n",
       "      <td>20.000000</td>\n",
       "      <td>219.000000</td>\n",
       "      <td>3.000000</td>\n",
       "      <td>90.000000</td>\n",
       "    </tr>\n",
       "  </tbody>\n",
       "</table>\n",
       "</div>"
      ],
      "text/plain": [
       "          match_id      team_id    player_id  goals_scored  minutes_played\n",
       "count  4180.000000  4180.000000  4180.000000   4180.000000     4180.000000\n",
       "mean    657.157895    10.500000   109.500000      0.563876       67.630622\n",
       "std     511.040045     5.766971    63.515472      0.837038       13.200804\n",
       "min      12.000000     1.000000     0.000000      0.000000       45.000000\n",
       "25%     210.000000     5.750000    54.750000      0.000000       56.000000\n",
       "50%     613.500000    10.500000   109.500000      0.000000       68.000000\n",
       "75%    1018.000000    15.250000   164.250000      1.000000       79.000000\n",
       "max    1920.000000    20.000000   219.000000      3.000000       90.000000"
      ]
     },
     "execution_count": 5,
     "metadata": {},
     "output_type": "execute_result"
    }
   ],
   "source": [
    "df.describe()"
   ]
  },
  {
   "cell_type": "code",
   "execution_count": 9,
   "metadata": {},
   "outputs": [
    {
     "name": "stdout",
     "output_type": "stream",
     "text": [
      "Total of unique matches is :  190\n"
     ]
    }
   ],
   "source": [
    "print('Total of unique matches is : ',len(df['match_id'].unique()))"
   ]
  },
  {
   "cell_type": "code",
   "execution_count": 10,
   "metadata": {},
   "outputs": [
    {
     "name": "stdout",
     "output_type": "stream",
     "text": [
      "Total of unique teams is:  20\n"
     ]
    }
   ],
   "source": [
    "print('Total of unique teams is: ', len(df['team_id'].unique()))"
   ]
  },
  {
   "cell_type": "code",
   "execution_count": 11,
   "metadata": {},
   "outputs": [
    {
     "name": "stdout",
     "output_type": "stream",
     "text": [
      "Total of unique players is:  220\n"
     ]
    }
   ],
   "source": [
    "print('Total of unique players is: ', len(df['player_id'].unique()))"
   ]
  },
  {
   "cell_type": "markdown",
   "metadata": {},
   "source": [
    "### Comparing with computed values"
   ]
  },
  {
   "cell_type": "code",
   "execution_count": 15,
   "metadata": {},
   "outputs": [
    {
     "data": {
      "text/plain": [
       "20"
      ]
     },
     "execution_count": 15,
     "metadata": {},
     "output_type": "execute_result"
    }
   ],
   "source": [
    "df_teams = pd.read_csv('data/transformed/trf_teams.csv')\n",
    "len(df_teams['team_id'].unique())"
   ]
  },
  {
   "cell_type": "code",
   "execution_count": 16,
   "metadata": {},
   "outputs": [
    {
     "data": {
      "text/plain": [
       "190"
      ]
     },
     "execution_count": 16,
     "metadata": {},
     "output_type": "execute_result"
    }
   ],
   "source": [
    "df_matches = pd.read_csv('data/transformed/trf_matches.csv')\n",
    "len(df_matches['match_id'].unique())"
   ]
  },
  {
   "cell_type": "code",
   "execution_count": 17,
   "metadata": {},
   "outputs": [
    {
     "data": {
      "text/plain": [
       "220"
      ]
     },
     "execution_count": 17,
     "metadata": {},
     "output_type": "execute_result"
    }
   ],
   "source": [
    "df_players = pd.read_csv('data/transformed/trf_players.csv')\n",
    "len(df_players['player_id'].unique())"
   ]
  },
  {
   "cell_type": "code",
   "execution_count": 17,
   "metadata": {},
   "outputs": [],
   "source": [
    "home_df = df.query('match_id == 212')"
   ]
  },
  {
   "cell_type": "code",
   "execution_count": 18,
   "metadata": {},
   "outputs": [
    {
     "data": {
      "text/html": [
       "<div>\n",
       "<style scoped>\n",
       "    .dataframe tbody tr th:only-of-type {\n",
       "        vertical-align: middle;\n",
       "    }\n",
       "\n",
       "    .dataframe tbody tr th {\n",
       "        vertical-align: top;\n",
       "    }\n",
       "\n",
       "    .dataframe thead th {\n",
       "        text-align: right;\n",
       "    }\n",
       "</style>\n",
       "<table border=\"1\" class=\"dataframe\">\n",
       "  <thead>\n",
       "    <tr style=\"text-align: right;\">\n",
       "      <th></th>\n",
       "      <th>match_id</th>\n",
       "      <th>match_name</th>\n",
       "      <th>team_id</th>\n",
       "      <th>team_name</th>\n",
       "      <th>is_home</th>\n",
       "      <th>player_id</th>\n",
       "      <th>player_name</th>\n",
       "      <th>goals_scored</th>\n",
       "      <th>minutes_played</th>\n",
       "    </tr>\n",
       "  </thead>\n",
       "  <tbody>\n",
       "    <tr>\n",
       "      <th>203</th>\n",
       "      <td>212</td>\n",
       "      <td>Formerly In Shape Stars vs Killer Giants</td>\n",
       "      <td>2</td>\n",
       "      <td>Formerly In Shape Stars</td>\n",
       "      <td>True</td>\n",
       "      <td>81</td>\n",
       "      <td>Alicia Rich DDS</td>\n",
       "      <td>0</td>\n",
       "      <td>76</td>\n",
       "    </tr>\n",
       "    <tr>\n",
       "      <th>423</th>\n",
       "      <td>212</td>\n",
       "      <td>Formerly In Shape Stars vs Killer Giants</td>\n",
       "      <td>2</td>\n",
       "      <td>Formerly In Shape Stars</td>\n",
       "      <td>True</td>\n",
       "      <td>181</td>\n",
       "      <td>Joseph Maldonado</td>\n",
       "      <td>0</td>\n",
       "      <td>90</td>\n",
       "    </tr>\n",
       "    <tr>\n",
       "      <th>1280</th>\n",
       "      <td>212</td>\n",
       "      <td>Formerly In Shape Stars vs Killer Giants</td>\n",
       "      <td>2</td>\n",
       "      <td>Formerly In Shape Stars</td>\n",
       "      <td>True</td>\n",
       "      <td>101</td>\n",
       "      <td>Caitlyn Wright</td>\n",
       "      <td>0</td>\n",
       "      <td>71</td>\n",
       "    </tr>\n",
       "    <tr>\n",
       "      <th>1339</th>\n",
       "      <td>212</td>\n",
       "      <td>Formerly In Shape Stars vs Killer Giants</td>\n",
       "      <td>2</td>\n",
       "      <td>Formerly In Shape Stars</td>\n",
       "      <td>True</td>\n",
       "      <td>161</td>\n",
       "      <td>Harry Sanders</td>\n",
       "      <td>0</td>\n",
       "      <td>85</td>\n",
       "    </tr>\n",
       "    <tr>\n",
       "      <th>1735</th>\n",
       "      <td>212</td>\n",
       "      <td>Formerly In Shape Stars vs Killer Giants</td>\n",
       "      <td>2</td>\n",
       "      <td>Formerly In Shape Stars</td>\n",
       "      <td>True</td>\n",
       "      <td>41</td>\n",
       "      <td>Julie Villa</td>\n",
       "      <td>1</td>\n",
       "      <td>88</td>\n",
       "    </tr>\n",
       "    <tr>\n",
       "      <th>1838</th>\n",
       "      <td>212</td>\n",
       "      <td>Formerly In Shape Stars vs Killer Giants</td>\n",
       "      <td>2</td>\n",
       "      <td>Formerly In Shape Stars</td>\n",
       "      <td>True</td>\n",
       "      <td>121</td>\n",
       "      <td>Kayla Cooper</td>\n",
       "      <td>0</td>\n",
       "      <td>80</td>\n",
       "    </tr>\n",
       "    <tr>\n",
       "      <th>2429</th>\n",
       "      <td>212</td>\n",
       "      <td>Formerly In Shape Stars vs Killer Giants</td>\n",
       "      <td>2</td>\n",
       "      <td>Formerly In Shape Stars</td>\n",
       "      <td>True</td>\n",
       "      <td>201</td>\n",
       "      <td>Tina Bell</td>\n",
       "      <td>0</td>\n",
       "      <td>62</td>\n",
       "    </tr>\n",
       "    <tr>\n",
       "      <th>2494</th>\n",
       "      <td>212</td>\n",
       "      <td>Formerly In Shape Stars vs Killer Giants</td>\n",
       "      <td>2</td>\n",
       "      <td>Formerly In Shape Stars</td>\n",
       "      <td>True</td>\n",
       "      <td>141</td>\n",
       "      <td>Andrew Bailey</td>\n",
       "      <td>0</td>\n",
       "      <td>69</td>\n",
       "    </tr>\n",
       "    <tr>\n",
       "      <th>3593</th>\n",
       "      <td>212</td>\n",
       "      <td>Formerly In Shape Stars vs Killer Giants</td>\n",
       "      <td>2</td>\n",
       "      <td>Formerly In Shape Stars</td>\n",
       "      <td>True</td>\n",
       "      <td>21</td>\n",
       "      <td>Mariah Mccullough</td>\n",
       "      <td>1</td>\n",
       "      <td>65</td>\n",
       "    </tr>\n",
       "    <tr>\n",
       "      <th>3626</th>\n",
       "      <td>212</td>\n",
       "      <td>Formerly In Shape Stars vs Killer Giants</td>\n",
       "      <td>2</td>\n",
       "      <td>Formerly In Shape Stars</td>\n",
       "      <td>True</td>\n",
       "      <td>61</td>\n",
       "      <td>Lauren Anderson</td>\n",
       "      <td>0</td>\n",
       "      <td>81</td>\n",
       "    </tr>\n",
       "    <tr>\n",
       "      <th>3874</th>\n",
       "      <td>212</td>\n",
       "      <td>Formerly In Shape Stars vs Killer Giants</td>\n",
       "      <td>2</td>\n",
       "      <td>Formerly In Shape Stars</td>\n",
       "      <td>True</td>\n",
       "      <td>1</td>\n",
       "      <td>Dr. Haley Murphy</td>\n",
       "      <td>0</td>\n",
       "      <td>61</td>\n",
       "    </tr>\n",
       "  </tbody>\n",
       "</table>\n",
       "</div>"
      ],
      "text/plain": [
       "      match_id                                match_name  team_id  \\\n",
       "203        212  Formerly In Shape Stars vs Killer Giants        2   \n",
       "423        212  Formerly In Shape Stars vs Killer Giants        2   \n",
       "1280       212  Formerly In Shape Stars vs Killer Giants        2   \n",
       "1339       212  Formerly In Shape Stars vs Killer Giants        2   \n",
       "1735       212  Formerly In Shape Stars vs Killer Giants        2   \n",
       "1838       212  Formerly In Shape Stars vs Killer Giants        2   \n",
       "2429       212  Formerly In Shape Stars vs Killer Giants        2   \n",
       "2494       212  Formerly In Shape Stars vs Killer Giants        2   \n",
       "3593       212  Formerly In Shape Stars vs Killer Giants        2   \n",
       "3626       212  Formerly In Shape Stars vs Killer Giants        2   \n",
       "3874       212  Formerly In Shape Stars vs Killer Giants        2   \n",
       "\n",
       "                    team_name  is_home  player_id        player_name  \\\n",
       "203   Formerly In Shape Stars     True         81    Alicia Rich DDS   \n",
       "423   Formerly In Shape Stars     True        181   Joseph Maldonado   \n",
       "1280  Formerly In Shape Stars     True        101     Caitlyn Wright   \n",
       "1339  Formerly In Shape Stars     True        161      Harry Sanders   \n",
       "1735  Formerly In Shape Stars     True         41        Julie Villa   \n",
       "1838  Formerly In Shape Stars     True        121       Kayla Cooper   \n",
       "2429  Formerly In Shape Stars     True        201          Tina Bell   \n",
       "2494  Formerly In Shape Stars     True        141      Andrew Bailey   \n",
       "3593  Formerly In Shape Stars     True         21  Mariah Mccullough   \n",
       "3626  Formerly In Shape Stars     True         61    Lauren Anderson   \n",
       "3874  Formerly In Shape Stars     True          1   Dr. Haley Murphy   \n",
       "\n",
       "      goals_scored  minutes_played  \n",
       "203              0              76  \n",
       "423              0              90  \n",
       "1280             0              71  \n",
       "1339             0              85  \n",
       "1735             1              88  \n",
       "1838             0              80  \n",
       "2429             0              62  \n",
       "2494             0              69  \n",
       "3593             1              65  \n",
       "3626             0              81  \n",
       "3874             0              61  "
      ]
     },
     "execution_count": 18,
     "metadata": {},
     "output_type": "execute_result"
    }
   ],
   "source": [
    "home_df.query('is_home == True')"
   ]
  },
  {
   "cell_type": "code",
   "execution_count": null,
   "metadata": {},
   "outputs": [],
   "source": []
  }
 ],
 "metadata": {
  "kernelspec": {
   "display_name": "nordea_env",
   "language": "python",
   "name": "python3"
  },
  "language_info": {
   "codemirror_mode": {
    "name": "ipython",
    "version": 3
   },
   "file_extension": ".py",
   "mimetype": "text/x-python",
   "name": "python",
   "nbconvert_exporter": "python",
   "pygments_lexer": "ipython3",
   "version": "3.9.7"
  }
 },
 "nbformat": 4,
 "nbformat_minor": 2
}
